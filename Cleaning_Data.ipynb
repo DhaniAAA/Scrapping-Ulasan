{
  "cells": [
    {
      "cell_type": "markdown",
      "metadata": {
        "id": "view-in-github",
        "colab_type": "text"
      },
      "source": [
        "<a href=\"https://colab.research.google.com/github/DhaniAAA/Scrapping-Ulasan/blob/main/Cleaning_Data_COC.ipynb\" target=\"_parent\"><img src=\"https://colab.research.google.com/assets/colab-badge.svg\" alt=\"Open In Colab\"/></a>"
      ]
    },
    {
      "cell_type": "code",
      "source": [
        "import pandas as pd\n",
        "import string\n",
        "import re\n",
        "import os\n",
        "# Fungsi untuk menghapus emoji dari teks\n",
        "def remove_emoji(text):\n",
        "    emoji_pattern = re.compile(\n",
        "        \"[\"\n",
        "        u\"\\U0001F600-\\U0001F64F\"  # emoticons\n",
        "        u\"\\U0001F300-\\U0001F5FF\"  # symbols & pictographs\n",
        "        u\"\\U0001F680-\\U0001F6FF\"  # transport & map symbols\n",
        "        u\"\\U0001F700-\\U0001F77F\"  # alchemical symbols\n",
        "        u\"\\U0001F780-\\U0001F7FF\"  # Geometric Shapes Extended\n",
        "        u\"\\U0001F800-\\U0001F8FF\"  # Supplemental Arrows-C\n",
        "        u\"\\U0001F900-\\U0001F9FF\"  # Supplemental Symbols and Pictographs\n",
        "        u\"\\U0001FA00-\\U0001FA6F\"  # Chess Symbols\n",
        "        u\"\\U0001FA70-\\U0001FAFF\"  # Symbols and Pictographs Extended-A\n",
        "        u\"\\U00002702-\\U000027B0\"  # Dingbats\n",
        "        u\"\\U000024C2-\\U0001F251\"\n",
        "        \"]+\", flags=re.UNICODE\n",
        "    )\n",
        "    return emoji_pattern.sub(r'', text)\n",
        "\n",
        "def remove_non_latin(text):\n",
        "    latin_pattern = re.compile(\"[^\\u0000-\\u007F]+\", flags=re.UNICODE)\n",
        "    return latin_pattern.sub(r'', text)\n",
        "\n",
        "# Membaca data dari file CSV\n",
        "# Specify the encoding explicitly, for example 'latin-1' or 'cp1252'\n",
        "data = pd.read_csv(\"/content/merge.csv\", encoding='latin-1')\n",
        "\n",
        "# Mengubah kolom Content menjadi tipe string\n",
        "data[\"Content\"] = data[\"Content\"].astype(str)\n",
        "\n",
        "# Menghapus emoji dari teks\n",
        "data[\"Content\"] = data[\"Content\"].apply(remove_emoji)\n",
        "\n",
        "# Menghapus titik, koma, garis miring, tanda baca, dan simbol Â²\n",
        "data[\"Content\"] = data[\"Content\"].str.replace(r'[^\\w\\s]', '', regex=True)\n",
        "data[\"Content\"] = data[\"Content\"].str.replace(\"[,.]\", \"\", regex=True)\n",
        "data[\"Content\"] = data[\"Content\"].str.replace('\"', \"\", regex=True)  # perbaikan pada penghapusan tanda kutip ganda\n",
        "data[\"Content\"] = data[\"Content\"].str.replace(\"Â²\", \"\", regex=True)\n",
        "data[\"Content\"] = data[\"Content\"].str.replace(\"ð³\", \"\", regex=True)\n",
        "data[\"Content\"] = data[\"Content\"].str.replace(\"ðª\", \"\", regex=True)\n",
        "data[\"Content\"] = data[\"Content\"].str.replace(\"ð\", \"\", regex=True)\n",
        "data[\"Content\"] = data[\"Content\"].str.replace(\"²\", \"\", regex=True)\n",
        "data[\"Content\"] = data[\"Content\"].str.replace(\"º\", \"\", regex=True)\n",
        "# Mengubah teks menjadi huruf kecil\n",
        "data[\"Content\"] = data[\"Content\"].str.lower()\n",
        "\n",
        "# Menghapus baris kosong\n",
        "data = data[data[\"Content\"].str.strip().astype(bool)]\n",
        "\n",
        "print(data.to_markdown(index=False, numalign=\"left\", stralign=\"left\"))\n",
        "\n",
        "# Menulis data kembali ke file CSV\n",
        "#data.to_csv(\"data_Cleaning_COC.csv\", index=False)"
      ],
      "metadata": {
        "collapsed": true,
        "id": "N8uR1rGBTefj"
      },
      "execution_count": null,
      "outputs": []
    },
    {
      "cell_type": "code",
      "source": [
        "import pandas as pd\n",
        "import re\n",
        "\n",
        "# Fungsi untuk menghapus emoji dan karakter non-Latin dari teks\n",
        "def clean_text(text):\n",
        "    emoji_pattern = re.compile(\n",
        "        \"[\"u\"\\U0001F600-\\U0001F64F\" u\"\\U0001F300-\\U0001F5FF\"\n",
        "        u\"\\U0001F680-\\U0001F6FF\" u\"\\U0001F700-\\U0001F77F\"\n",
        "        u\"\\U0001F780-\\U0001F7FF\" u\"\\U0001F800-\\U0001F8FF\"\n",
        "        u\"\\U0001F900-\\U0001F9FF\" u\"\\U0001FA00-\\U0001FA6F\"\n",
        "        u\"\\U0001FA70-\\U0001FAFF\" u\"\\U00002702-\\U000027B0\"\n",
        "        u\"\\U000024C2-\\U0001F251\" \"]+\", flags=re.UNICODE\n",
        "    )\n",
        "    text = emoji_pattern.sub('', text)  # Hapus emoji\n",
        "    text = re.sub(\"[^\\u0000-\\u007F]+\", '', text)  # Hapus karakter non-Latin\n",
        "    return text\n",
        "\n",
        "# Membaca data dari file CSV\n",
        "data = pd.read_csv(\"/content/merge.csv\", encoding='latin-1')\n",
        "data[\"Content\"] = data[\"Content\"].astype(str)\n",
        "\n",
        "# Membersihkan data dengan fungsi clean_text, menghapus simbol, dan mengubah menjadi huruf kecil\n",
        "data[\"Content\"] = data[\"Content\"].apply(clean_text)\n",
        "data[\"Content\"] = data[\"Content\"].str.replace(r'[^\\w\\s]', '', regex=True).str.lower()\n",
        "\n",
        "# Menghapus baris kosong\n",
        "data = data[data[\"Content\"].str.strip().astype(bool)]\n",
        "\n",
        "# Menampilkan data\n",
        "print(data.to_markdown(index=False, numalign=\"left\", stralign=\"left\"))\n",
        "\n",
        "# Menyimpan data kembali ke file CSV\n",
        "# data.to_csv(\"data_Cleaning_COC.csv\", index=False)\n"
      ],
      "metadata": {
        "collapsed": true,
        "id": "OdQRu6VFUJ-x"
      },
      "execution_count": null,
      "outputs": []
    },
    {
      "cell_type": "code",
      "source": [
        "import pandas as pd\n",
        "import re\n",
        "\n",
        "# Membaca dataset\n",
        "\n",
        "# Fungsi untuk mengecek karakter non-Latin\n",
        "def contains_non_latin(text):\n",
        "    non_latin_pattern = re.compile(\"[^\\u0000-\\u007F]+\")\n",
        "    return bool(non_latin_pattern.search(text))\n",
        "\n",
        "# Menambah kolom untuk menandai baris dengan karakter non-Latin\n",
        "data['NonLatin'] = data['Content'].apply(contains_non_latin)\n",
        "\n",
        "# Menampilkan baris yang mengandung karakter non-Latin\n",
        "non_latin_rows = data[data['NonLatin'] == True]\n",
        "print(non_latin_rows[['Content']])\n"
      ],
      "metadata": {
        "colab": {
          "base_uri": "https://localhost:8080/"
        },
        "id": "JU2hOF4JWRSO",
        "outputId": "bbc40b67-53a0-4a29-e1a3-f966d4e86da6"
      },
      "execution_count": 41,
      "outputs": [
        {
          "output_type": "stream",
          "name": "stdout",
          "text": [
            "Empty DataFrame\n",
            "Columns: [Content]\n",
            "Index: []\n"
          ]
        }
      ]
    },
    {
      "cell_type": "code",
      "source": [
        "data_cleaned = data.replace(\"nan\", pd.NA).dropna()"
      ],
      "metadata": {
        "id": "aHIAS9HhYpI-"
      },
      "execution_count": 42,
      "outputs": []
    },
    {
      "cell_type": "code",
      "source": [
        "data_cleaned"
      ],
      "metadata": {
        "collapsed": true,
        "id": "g5pnEn4IZJV_"
      },
      "execution_count": null,
      "outputs": []
    },
    {
      "cell_type": "code",
      "source": [
        "data_cleaned.to_csv(\"data_Cleaning.csv\", index=False)\n"
      ],
      "metadata": {
        "id": "baprGouc5hOo",
        "collapsed": true
      },
      "execution_count": 38,
      "outputs": []
    },
    {
      "cell_type": "markdown",
      "source": [],
      "metadata": {
        "id": "vA7gip8IYrNo"
      }
    }
  ],
  "metadata": {
    "colab": {
      "provenance": [],
      "include_colab_link": true
    },
    "kernelspec": {
      "display_name": "Python 3",
      "name": "python3"
    }
  },
  "nbformat": 4,
  "nbformat_minor": 0
}
