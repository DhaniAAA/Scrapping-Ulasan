{
  "cells": [
    {
      "cell_type": "markdown",
      "metadata": {
        "id": "view-in-github",
        "colab_type": "text"
      },
      "source": [
        "<a href=\"https://colab.research.google.com/github/DhaniAAA/Scrapping-Ulasan/blob/main/Convert_Emoji_to_Teks.ipynb\" target=\"_parent\"><img src=\"https://colab.research.google.com/assets/colab-badge.svg\" alt=\"Open In Colab\"/></a>"
      ]
    },
    {
      "cell_type": "code",
      "source": [
        "import emoji\n",
        "import pandas as pd\n",
        "\n",
        "# Load data\n",
        "file_path = '/content/komentar.csv'\n",
        "comments_df = pd.read_csv(file_path)\n",
        "\n",
        "# Fungsi untuk mengubah emoji ke teks\n",
        "def emoji_to_text(text):\n",
        "    return emoji.demojize(text, language='id')  # Hasilnya dalam bahasa Inggris\n",
        "\n",
        "# Terapkan fungsi ke kolom 'comments'\n",
        "comments_df['Teks Komentar'] = comments_df['Teks Komentar'].apply(emoji_to_text)\n",
        "\n",
        "# Jika ingin terjemahkan ke bahasa Indonesia, Anda perlu solusi terjemahan tambahan\n",
        "# Misal, menggunakan Googletrans library (perlu instalasi terpisah: `pip install googletrans==4.0.0-rc1`)\n",
        "from googletrans import Translator\n",
        "translator = Translator()\n",
        "\n",
        "#def translate_to_indonesian(text):\n",
        "#    return translator.translate(text, dest='id').text\n",
        "\n",
        "# Terapkan terjemahan (catatan: ini memerlukan koneksi internet dan mungkin lambat untuk dataset besar)\n",
        "# comments_df['comments_translated_id'] = comments_df['comments_translated'].apply(translate_to_indonesian)\n",
        "\n",
        "# Save to a new CSV file\n",
        "output_path = '/content/komentar_translated.csv'\n",
        "comments_df.to_csv(output_path, index=False)"
      ],
      "metadata": {
        "id": "Ak0c6njVlCo8"
      },
      "execution_count": null,
      "outputs": []
    },
    {
      "cell_type": "code",
      "source": [
        "import pandas as pd\n",
        "import re\n",
        "\n",
        "# Step 1: Remove duplicates\n",
        "comments_df.drop_duplicates(inplace=True)\n",
        "\n",
        "# Step 2: Handle missing values - Dropping rows with NaN values in relevant columns\n",
        "comments_df.dropna(subset=['Teks Komentar'], inplace=True)\n",
        "\n",
        "# Step 3: Text normalization\n",
        "def clean_text(text):\n",
        "    text = text.lower()  # Convert to lowercase\n",
        "    text = re.sub(r'\\s+', ' ', text)  # Remove extra whitespace\n",
        "    text = re.sub(r'_', ' ', text)  # Remove underscores\n",
        "    text = re.sub(r':', ' ', text)\n",
        "    text = re.sub(r'\\d+', '', text)  # Remove numbers\n",
        "    text = re.sub(r'http\\S+|www.\\S+', '', text)  # Remove URLs\n",
        "    text = re.sub(r'[^\\w\\s]', '', text)  # Remove punctuation and special characters\n",
        "    return text.strip()\n",
        "\n",
        "# Apply text cleaning to the 'Teks Komentar Translated' column\n",
        "comments_df['Teks Komentar'] = comments_df['Teks Komentar'].apply(clean_text)\n",
        "\n",
        "# Save cleaned data to a new CSV file\n",
        "#cleaned_output_path = '/mnt/data/komentar_translated_cleaned.csv'\n",
        "#df.to_csv(cleaned_output_path, index=False)\n",
        "\n",
        "comments_df"
      ],
      "metadata": {
        "id": "te5yP03Slv1W"
      },
      "execution_count": null,
      "outputs": []
    }
  ],
  "metadata": {
    "colab": {
      "provenance": [],
      "include_colab_link": true
    },
    "kernelspec": {
      "display_name": "Python 3",
      "name": "python3"
    }
  },
  "nbformat": 4,
  "nbformat_minor": 0
}