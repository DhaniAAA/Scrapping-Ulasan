{
  "nbformat": 4,
  "nbformat_minor": 0,
  "metadata": {
    "colab": {
      "provenance": [],
      "include_colab_link": true
    },
    "kernelspec": {
      "name": "python3",
      "display_name": "Python 3"
    },
    "language_info": {
      "name": "python"
    }
  },
  "cells": [
    {
      "cell_type": "markdown",
      "metadata": {
        "id": "view-in-github",
        "colab_type": "text"
      },
      "source": [
        "<a href=\"https://colab.research.google.com/github/DhaniAAA/Scrapping-Ulasan/blob/main/Scraping.ipynb\" target=\"_parent\"><img src=\"https://colab.research.google.com/assets/colab-badge.svg\" alt=\"Open In Colab\"/></a>"
      ]
    },
    {
      "cell_type": "code",
      "execution_count": null,
      "metadata": {
        "id": "MI-lzMD_Kc7F"
      },
      "outputs": [],
      "source": [
        "df= pd.read_csv(\"/content/hasil_gabungan.csv\")"
      ]
    },
    {
      "cell_type": "code",
      "source": [
        "# Import pustaka yang diperlukan\n",
        "from google_play_scraper import app, reviews_all, Sort, reviews\n",
        "import pandas as pd\n",
        "\n",
        "# ID aplikasi yang akan di-scrape ulasannya\n",
        "app_id = 'com.ss.android.ugc.trill'\n",
        "\n",
        "# Mengambil informasi aplikasi\n",
        "app_info = app(app_id)\n",
        "\n",
        "# Mengambil semua ulasan\n",
        "result, continuation_token = reviews(\n",
        "    app_id,\n",
        "    lang='en',  # Bahasa ulasan (ganti dengan 'en' jika ingin dalam bahasa Inggris)\n",
        "    count=2000,  # Jumlah ulasan yang ingin diambil\n",
        "    sort=Sort.NEWEST,  # Mengurutkan ulasan berdasarkan terbaru\n",
        "    filter_score_with=None  # Hanya mengambil ulasan dengan rating 5\n",
        ")\n",
        "\n",
        "# Menyiapkan list untuk menyimpan data ulasan\n",
        "reviews_data = []\n",
        "\n",
        "# Loop untuk mengumpulkan data ulasan\n",
        "for review in result:\n",
        "    username = review['userName']\n",
        "    rating = review['score']\n",
        "    date = review['at']\n",
        "    app_version = review['reviewCreatedVersion']\n",
        "    ulasan = review['content']\n",
        "    gameversion = review['appVersion']\n",
        "\n",
        "    # Menambahkan data ulasan ke dalam list\n",
        "    reviews_data.append({\n",
        "        'Username': username,\n",
        "        'Rating': rating,\n",
        "        'Date': date,\n",
        "        'App_Version': app_version,\n",
        "        'Content': ulasan,\n",
        "        'Appgame': gameversion\n",
        "    })\n",
        "\n",
        "# Membuat DataFrame dari data ulasan\n",
        "df_reviews = pd.DataFrame(reviews_data)\n",
        "# Membuat DataFrame dari ulasan\n",
        "# Menyimpan ulasan ke file CSV\n",
        "df_reviews.to_csv('playstore_reviews.csv', index=False, encoding='utf-8')\n",
        "\n",
        "print(\"Scraping selesai. Ulasan disimpan di playstore_reviews.csv\")\n"
      ],
      "metadata": {
        "colab": {
          "base_uri": "https://localhost:8080/"
        },
        "id": "HeLFypxuarbS",
        "outputId": "e332e7f8-9125-4b45-b01d-fa589ea1c200"
      },
      "execution_count": null,
      "outputs": [
        {
          "output_type": "stream",
          "name": "stdout",
          "text": [
            "                   Username  Rating                Date App_Version  \\\n",
            "0               Soni Wijaya       4 2024-05-06 06:05:27        None   \n",
            "1            Reyno Dafa Ari       1 2024-05-06 06:02:26        None   \n",
            "2           Khoirunnisa Min       5 2024-05-06 06:01:34        None   \n",
            "3             Agus Suherman       5 2024-05-06 05:53:35   16.253.20   \n",
            "4                Mustika 69       5 2024-05-06 05:51:34   16.253.25   \n",
            "..                      ...     ...                 ...         ...   \n",
            "990  Muhamad Agil Dharmawan       1 2024-05-03 09:23:39   16.253.20   \n",
            "991     Adiba khanza Azahra       1 2024-05-03 09:21:25        None   \n",
            "992              Reza Notch       5 2024-05-03 09:20:50        None   \n",
            "993                 Maulana       5 2024-05-03 09:20:02   16.253.25   \n",
            "994    Fahmi Feyza alfarezi       4 2024-05-03 09:18:43   16.253.25   \n",
            "\n",
            "                                               Content    Appgame  \n",
            "0                                      Gacorr abisssss       None  \n",
            "1                                           banyak bug       None  \n",
            "2    Mereka di rumah saya mbak Tami Prastowo di rum...       None  \n",
            "3                                             Sukidesu  16.253.20  \n",
            "4                                    Good sangat baik9  16.253.25  \n",
            "..                                                 ...        ...  \n",
            "990                                 update Mulu Anying  16.253.20  \n",
            "991                                   Bagus deh sekali       None  \n",
            "992                                              Bagus       None  \n",
            "993  Kembalikan lagi dong chat di global. Sprti dul...  16.253.25  \n",
            "994  keren banget ni game seru,plis tembok nya mura...  16.253.25  \n",
            "\n",
            "[995 rows x 6 columns]\n"
          ]
        }
      ]
    },
    {
      "cell_type": "code",
      "source": [
        "# Import pustaka yang diperlukan\n",
        "from google_play_scraper import app, reviews_all, Sort, reviews\n",
        "import pandas as pd\n",
        "\n",
        "# ID aplikasi yang akan di-scrape ulasannya\n",
        "app_id = 'com.supercell.clashofclans'\n",
        "\n",
        "# Mengambil informasi aplikasi\n",
        "app_info = app(app_id)\n",
        "\n",
        "# Mengambil semua ulasan dengan rating 1-3\n",
        "result, continuation_token = reviews(\n",
        "    app_id,\n",
        "    lang='id',  # Bahasa ulasan (ganti dengan 'id' jika ingin dalam bahasa Indonesia)\n",
        "    count=2000,  # Jumlah ulasan yang ingin diambil\n",
        "    sort=Sort.NEWEST,  # Mengurutkan ulasan berdasarkan terbaru\n",
        "    filter_score_with=None  # Tidak memfilter berdasarkan skor\n",
        ")\n",
        "\n",
        "# Menyiapkan list untuk menyimpan data ulasan\n",
        "reviews_data = []\n",
        "\n",
        "# Loop untuk mengumpulkan data ulasan\n",
        "for review in result:\n",
        "    rating = review['score']\n",
        "    if 1 <= rating <= 3:  # Memfilter ulasan dengan rating 1-3\n",
        "        username = review['userName']\n",
        "        date = review['at']\n",
        "        app_version = review['reviewCreatedVersion']\n",
        "        ulasan = review['content']\n",
        "        gameversion = review['appVersion']\n",
        "\n",
        "        # Menambahkan data ulasan ke dalam list\n",
        "        reviews_data.append({\n",
        "            'Username': username,\n",
        "            'Rating': rating,\n",
        "            'Date': date,\n",
        "            'App_Version': app_version,\n",
        "            'Content': ulasan,\n",
        "            'Appgame': gameversion\n",
        "        })\n",
        "\n",
        "# Membuat DataFrame dari data ulasan\n",
        "df_reviews = pd.DataFrame(reviews_data)\n",
        "\n",
        "# Menyimpan ulasan ke file CSV\n",
        "#df_reviews.to_csv('playstore_reviews_1_3.csv', index=False, encoding='utf-8')\n",
        "\n",
        "print(\"Scraping selesai. Ulasan disimpan di playstore_reviews_1_3.csv\")\n"
      ],
      "metadata": {
        "id": "-LMHDFpv47jR",
        "outputId": "dbe2cdd5-b732-4b2a-8907-9f542b64ab63",
        "colab": {
          "base_uri": "https://localhost:8080/"
        }
      },
      "execution_count": 7,
      "outputs": [
        {
          "output_type": "stream",
          "name": "stdout",
          "text": [
            "Scraping selesai. Ulasan disimpan di playstore_reviews_1_3.csv\n"
          ]
        }
      ]
    },
    {
      "cell_type": "code",
      "source": [
        "print(df_reviews)"
      ],
      "metadata": {
        "id": "gPqCXP10bxAd",
        "outputId": "07668519-af4e-4692-8fb3-24e718210b8e",
        "colab": {
          "base_uri": "https://localhost:8080/"
        }
      },
      "execution_count": 8,
      "outputs": [
        {
          "output_type": "stream",
          "name": "stdout",
          "text": [
            "              Username  Rating                Date App_Version  \\\n",
            "0            Rara Rara       1 2024-06-22 13:28:08        None   \n",
            "1          Adi Heryadi       1 2024-06-18 12:25:06    16.386.1   \n",
            "2           Bang Minto       2 2024-06-16 05:32:13        None   \n",
            "3        Raminto Putra       1 2024-06-16 05:29:31   16.253.25   \n",
            "4        Harka Pratama       1 2024-06-15 12:24:07   16.253.35   \n",
            "..                 ...     ...                 ...         ...   \n",
            "823             xerxes       1 2024-05-30 22:48:03        None   \n",
            "824          Ega Rizki       2 2024-05-30 22:34:26   16.253.25   \n",
            "825        Agus Widodo       1 2024-05-30 22:25:22   16.253.25   \n",
            "826  Farid Bar keriset       3 2024-05-30 20:29:30        None   \n",
            "827     radha Prasetya       1 2024-05-30 20:18:52   16.253.25   \n",
            "\n",
            "                                               Content    Appgame  \n",
            "0    In game tidak aman sy main 5 tahun .baru offli...       None  \n",
            "1    Ko setelah update malah ada bug yaa??? Malah g...   16.386.1  \n",
            "2    minta tolong , segera di betulkan. sering hila...       None  \n",
            "3                                 sering loss koneksi.  16.253.25  \n",
            "4    Apalah game nya ngebug mulu kesalahan sambung ...  16.253.35  \n",
            "..                                                 ...        ...  \n",
            "823                                         unbalanced       None  \n",
            "824  Tidak bisa masuk pakai wifi padahal jaringan b...  16.253.25  \n",
            "825                  Lama tidak di mainkan malah ilang  16.253.25  \n",
            "826  Ini knp dah gw setiap pencet area atas(uang,tu...       None  \n",
            "827                         susah login akun lama!!!!!  16.253.25  \n",
            "\n",
            "[828 rows x 6 columns]\n"
          ]
        }
      ]
    }
  ]
}