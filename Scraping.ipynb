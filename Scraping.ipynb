{
  "nbformat": 4,
  "nbformat_minor": 0,
  "metadata": {
    "colab": {
      "provenance": [],
      "toc_visible": true,
      "authorship_tag": "ABX9TyPPPpSIJDTe0lhRO0NTsvho",
      "include_colab_link": true
    },
    "kernelspec": {
      "name": "python3",
      "display_name": "Python 3"
    },
    "language_info": {
      "name": "python"
    }
  },
  "cells": [
    {
      "cell_type": "markdown",
      "metadata": {
        "id": "view-in-github",
        "colab_type": "text"
      },
      "source": [
        "<a href=\"https://colab.research.google.com/github/DhaniAAA/Scrapping-Ulasan/blob/main/Scraping.ipynb\" target=\"_parent\"><img src=\"https://colab.research.google.com/assets/colab-badge.svg\" alt=\"Open In Colab\"/></a>"
      ]
    },
    {
      "cell_type": "code",
      "execution_count": null,
      "metadata": {
        "id": "MI-lzMD_Kc7F"
      },
      "outputs": [],
      "source": [
        "df= pd.read_csv(\"/content/hasil_gabungan.csv\")"
      ]
    },
    {
      "cell_type": "code",
      "source": [
        "# Import pustaka yang diperlukan\n",
        "from google_play_scraper import app, reviews_all, Sort, reviews\n",
        "import pandas as pd\n",
        "\n",
        "# ID aplikasi yang akan di-scrape ulasannya\n",
        "app_id = 'com.ss.android.ugc.trill'\n",
        "\n",
        "# Mengambil informasi aplikasi\n",
        "app_info = app(app_id)\n",
        "\n",
        "# Mengambil semua ulasan\n",
        "result, continuation_token = reviews(\n",
        "    app_id,\n",
        "    lang='en',  # Bahasa ulasan (ganti dengan 'en' jika ingin dalam bahasa Inggris)\n",
        "    count=2000,  # Jumlah ulasan yang ingin diambil\n",
        "    sort=Sort.NEWEST,  # Mengurutkan ulasan berdasarkan terbaru\n",
        "    filter_score_with=None  # Hanya mengambil ulasan dengan rating 5\n",
        ")\n",
        "\n",
        "# Menyiapkan list untuk menyimpan data ulasan\n",
        "reviews_data = []\n",
        "\n",
        "# Loop untuk mengumpulkan data ulasan\n",
        "for review in result:\n",
        "    username = review['userName']\n",
        "    rating = review['score']\n",
        "    date = review['at']\n",
        "    app_version = review['reviewCreatedVersion']\n",
        "    ulasan = review['content']\n",
        "    gameversion = review['appVersion']\n",
        "\n",
        "    # Menambahkan data ulasan ke dalam list\n",
        "    reviews_data.append({\n",
        "        'Username': username,\n",
        "        'Rating': rating,\n",
        "        'Date': date,\n",
        "        'App_Version': app_version,\n",
        "        'Content': ulasan,\n",
        "        'Appgame': gameversion\n",
        "    })\n",
        "\n",
        "# Membuat DataFrame dari data ulasan\n",
        "df_reviews = pd.DataFrame(reviews_data)\n",
        "# Membuat DataFrame dari ulasan\n",
        "# Menyimpan ulasan ke file CSV\n",
        "df_reviews.to_csv('playstore_reviews.csv', index=False, encoding='utf-8')\n",
        "\n",
        "print(\"Scraping selesai. Ulasan disimpan di playstore_reviews.csv\")\n"
      ],
      "metadata": {
        "colab": {
          "base_uri": "https://localhost:8080/"
        },
        "id": "HeLFypxuarbS",
        "outputId": "e332e7f8-9125-4b45-b01d-fa589ea1c200"
      },
      "execution_count": null,
      "outputs": [
        {
          "output_type": "stream",
          "name": "stdout",
          "text": [
            "                   Username  Rating                Date App_Version  \\\n",
            "0               Soni Wijaya       4 2024-05-06 06:05:27        None   \n",
            "1            Reyno Dafa Ari       1 2024-05-06 06:02:26        None   \n",
            "2           Khoirunnisa Min       5 2024-05-06 06:01:34        None   \n",
            "3             Agus Suherman       5 2024-05-06 05:53:35   16.253.20   \n",
            "4                Mustika 69       5 2024-05-06 05:51:34   16.253.25   \n",
            "..                      ...     ...                 ...         ...   \n",
            "990  Muhamad Agil Dharmawan       1 2024-05-03 09:23:39   16.253.20   \n",
            "991     Adiba khanza Azahra       1 2024-05-03 09:21:25        None   \n",
            "992              Reza Notch       5 2024-05-03 09:20:50        None   \n",
            "993                 Maulana       5 2024-05-03 09:20:02   16.253.25   \n",
            "994    Fahmi Feyza alfarezi       4 2024-05-03 09:18:43   16.253.25   \n",
            "\n",
            "                                               Content    Appgame  \n",
            "0                                      Gacorr abisssss       None  \n",
            "1                                           banyak bug       None  \n",
            "2    Mereka di rumah saya mbak Tami Prastowo di rum...       None  \n",
            "3                                             Sukidesu  16.253.20  \n",
            "4                                    Good sangat baik9  16.253.25  \n",
            "..                                                 ...        ...  \n",
            "990                                 update Mulu Anying  16.253.20  \n",
            "991                                   Bagus deh sekali       None  \n",
            "992                                              Bagus       None  \n",
            "993  Kembalikan lagi dong chat di global. Sprti dul...  16.253.25  \n",
            "994  keren banget ni game seru,plis tembok nya mura...  16.253.25  \n",
            "\n",
            "[995 rows x 6 columns]\n"
          ]
        }
      ]
    },
    {
      "cell_type": "code",
      "source": [],
      "metadata": {
        "id": "-LMHDFpv47jR"
      },
      "execution_count": null,
      "outputs": []
    }
  ]
}