{
  "cells": [
    {
      "cell_type": "markdown",
      "metadata": {
        "id": "view-in-github",
        "colab_type": "text"
      },
      "source": [
        "<a href=\"https://colab.research.google.com/github/DhaniAAA/Scrapping-Ulasan/blob/main/Analisis_Sentiment_Lexicon.ipynb\" target=\"_parent\"><img src=\"https://colab.research.google.com/assets/colab-badge.svg\" alt=\"Open In Colab\"/></a>"
      ]
    },
    {
      "cell_type": "code",
      "source": [
        "# File path\n",
        "LEXICON_FILE_PATH = '/content/sentiwords_id.txt'\n",
        "\n",
        "# Load lexicon from file\n",
        "def load_lexicon(file_path):\n",
        "    lexicon = {}\n",
        "    with open(file_path, 'r') as file:\n",
        "        for line in file:\n",
        "            word, score = line.strip().split(':')\n",
        "            lexicon[word] = int(score)\n",
        "    return lexicon\n",
        "\n",
        "# Tokenize input text\n",
        "def tokenize(text):\n",
        "    return text.lower().split()\n",
        "\n",
        "# Calculate sentiment score\n",
        "def calculate_sentiment(text, lexicon):\n",
        "    words = tokenize(text)\n",
        "    sentiment_score = 0\n",
        "    for word in words:\n",
        "        if word in lexicon:\n",
        "            sentiment_score += lexicon[word]\n",
        "    return sentiment_score\n",
        "\n",
        "# Classify sentiment based on score\n",
        "def classify_sentiment(score):\n",
        "    if score > 0:\n",
        "        return \"Positive\"\n",
        "    elif score < 0:\n",
        "        return \"Negative\"\n",
        "    else:\n",
        "        return \"Neutral\"\n",
        "\n",
        "# Main function for sentiment analysis\n",
        "def sentiment_analysis(text):\n",
        "    lexicon = load_lexicon(LEXICON_FILE_PATH)\n",
        "    score = calculate_sentiment(text, lexicon)\n",
        "    sentiment = classify_sentiment(score)\n",
        "    return sentiment, score\n",
        "\n",
        "# Example usage\n",
        "input_text = \"game tai anjgg\"\n",
        "sentiment, score = sentiment_analysis(input_text)\n",
        "print(f\"Sentiment: {sentiment}, Score: {score}\")\n"
      ],
      "metadata": {
        "colab": {
          "base_uri": "https://localhost:8080/"
        },
        "id": "eKhYd_dOLQY0",
        "outputId": "843cf688-3c66-4203-f3b6-df0d0e00d951"
      },
      "execution_count": null,
      "outputs": [
        {
          "output_type": "stream",
          "name": "stdout",
          "text": [
            "Sentiment: Negative, Score: -5\n"
          ]
        }
      ]
    },
    {
      "cell_type": "code",
      "source": [
        "# File path\n",
        "LEXICON_FILE_PATH = '/content/combined_indonesia_lexicon.txt'\n",
        "\n",
        "# Load lexicon from file\n",
        "def load_lexicon(file_path):\n",
        "    lexicon = {}\n",
        "    with open(file_path, 'r') as file:\n",
        "        for line in file:\n",
        "            if line.strip():\n",
        "                parts = line.strip().split('\\t')\n",
        "                if len(parts) == 2:\n",
        "                    word, score = parts\n",
        "                    lexicon[word] = float(score)\n",
        "    return lexicon\n",
        "\n",
        "# Tokenize input text\n",
        "def tokenize(text):\n",
        "    return text.lower().split()\n",
        "\n",
        "# Calculate sentiment score\n",
        "def calculate_sentiment(text, lexicon):\n",
        "    words = tokenize(text)\n",
        "    sentiment_score = 0\n",
        "    for word in words:\n",
        "        if word in lexicon:\n",
        "            sentiment_score += lexicon[word]\n",
        "    return sentiment_score\n",
        "\n",
        "# Classify sentiment based on score\n",
        "def classify_sentiment(score):\n",
        "    if score > 0:\n",
        "        return \"Positive\"\n",
        "    elif score < 0:\n",
        "        return \"Negative\"\n",
        "    else:\n",
        "        return \"Neutral\"\n",
        "\n",
        "# Main function for sentiment analysis\n",
        "def sentiment_analysis(text):\n",
        "    lexicon = load_lexicon(LEXICON_FILE_PATH)\n",
        "    score = calculate_sentiment(text, lexicon)\n",
        "    sentiment = classify_sentiment(score)\n",
        "    return sentiment, score\n",
        "\n",
        "# Example usage\n",
        "input_text = \"barang jlk dijual, tutup ajah tokonya tai :)\"\n",
        "sentiment, score = sentiment_analysis(input_text)\n",
        "print(f\"Sentiment: {sentiment}, Score: {score}\")\n"
      ],
      "metadata": {
        "colab": {
          "base_uri": "https://localhost:8080/"
        },
        "id": "ZyVo6EflL-bX",
        "outputId": "fe6aa24b-94af-4c85-a2f4-915ee160f22b"
      },
      "execution_count": null,
      "outputs": [
        {
          "output_type": "stream",
          "name": "stdout",
          "text": [
            "Sentiment: Negative, Score: -2.024\n"
          ]
        }
      ]
    }
  ],
  "metadata": {
    "colab": {
      "name": "Analisis Sentiment Lexicon",
      "provenance": [],
      "include_colab_link": true
    },
    "kernelspec": {
      "display_name": "Python 3",
      "name": "python3"
    }
  },
  "nbformat": 4,
  "nbformat_minor": 0
}