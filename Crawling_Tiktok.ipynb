{
  "cells": [
    {
      "cell_type": "markdown",
      "metadata": {
        "id": "view-in-github",
        "colab_type": "text"
      },
      "source": [
        "<a href=\"https://colab.research.google.com/github/DhaniAAA/Scrapping-Ulasan/blob/main/Crawling_Tiktok.ipynb\" target=\"_parent\"><img src=\"https://colab.research.google.com/assets/colab-badge.svg\" alt=\"Open In Colab\"/></a>"
      ]
    },
    {
      "cell_type": "code",
      "source": [
        "from apify_client import ApifyClient\n",
        "import csv\n",
        "\n",
        "# Inisialisasi ApifyClient dengan token API Anda\n",
        "client = ApifyClient(\"apify_api_6s0ArlxaIhGTgIyOnBWXoyWvE9VAn52BKVlX\")\n",
        "\n",
        "# Siapkan input untuk Aktor\n",
        "run_input = {\n",
        "    \"postURLs\": [\"https://www.tiktok.com/@timnasindonesia/video/7424206447216479494\"],\n",
        "    #Ubah 1000 menjadi sesuai keinginan, karena ini jumlah komentar yang akan diambil\n",
        "    \"commentsPerPost\": 1000,\n",
        "    # Ubah maxRepliesPerComment ke integer atau 0 jika Anda tidak ingin mengambil balasan\n",
        "    \"maxRepliesPerComment\": 0,\n",
        "}\n",
        "\n",
        "# Jalankan Aktor dan tunggu hingga selesai\n",
        "run = client.actor(\"BDec00yAmCm1QbMEI\").call(run_input=run_input)\n",
        "\n",
        "# Siapkan untuk menyimpan komentar ke dalam file CSV\n",
        "with open('komentar.csv', mode='w', newline='', encoding='utf-8') as file:\n",
        "    writer = csv.writer(file)\n",
        "    writer.writerow(['Teks Komentar'])  # Menulis header CSV\n",
        "\n",
        "    # Ambil dan simpan hanya teks dari hasil Aktor\n",
        "    for item in client.dataset(run[\"defaultDatasetId\"]).iterate_items():\n",
        "        if 'text' in item:  # Pastikan kunci 'text' ada dalam item\n",
        "            writer.writerow([item['text']])  # Simpan teks komentar ke dalam file CSV\n",
        "            print(item['text'])  # Cetak teks komentar ke konsol"
      ],
      "metadata": {
        "id": "xkVq66ui7l9P",
        "outputId": "dc49629c-c2d6-47e8-8425-653838379983",
        "colab": {
          "base_uri": "https://localhost:8080/"
        }
      },
      "execution_count": null,
      "outputs": [
        {
          "output_type": "stream",
          "name": "stdout",
          "text": [
            "plis komen ke akun fifa \"Sir FIFA, this is between the Indonesia vs Bahrain match, the added time is 6 minutes, but it's already 6 minutes past and the whistle hasn't been blown yet, right?\"\n",
            "struick gacor🔥\n"
          ]
        }
      ]
    }
  ],
  "metadata": {
    "colab": {
      "toc_visible": true,
      "provenance": [],
      "include_colab_link": true
    },
    "kernelspec": {
      "display_name": "Python 3",
      "name": "python3"
    }
  },
  "nbformat": 4,
  "nbformat_minor": 0
}